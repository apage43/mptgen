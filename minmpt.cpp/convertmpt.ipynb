{
 "cells": [
  {
   "cell_type": "code",
   "execution_count": null,
   "metadata": {},
   "outputs": [],
   "source": [
    "import torch\n",
    "from pathlib import Path\n",
    "import numpy as np\n",
    "import sys\n",
    "mpath = Path('e:/big_model/mpt-7b-chat')"
   ]
  },
  {
   "cell_type": "code",
   "execution_count": null,
   "metadata": {},
   "outputs": [],
   "source": [
    "import transformers\n",
    "model = transformers.AutoModelForCausalLM.from_pretrained(\n",
    "  mpath,\n",
    "  trust_remote_code=True,\n",
    "  low_cpu_mem_usage=True\n",
    ")"
   ]
  },
  {
   "cell_type": "code",
   "execution_count": null,
   "metadata": {},
   "outputs": [],
   "source": [
    "model"
   ]
  },
  {
   "cell_type": "code",
   "execution_count": null,
   "metadata": {},
   "outputs": [],
   "source": [
    "ftype_str = [\"f32\", \"f16\"]\n",
    "ftype = 0\n",
    "fname_out = Path(\"e:/big_model/\") / (f\"ggml-{mpath.name}-\" + ftype_str[ftype] + \".bin\")\n",
    "print(fname_out)"
   ]
  },
  {
   "cell_type": "code",
   "execution_count": null,
   "metadata": {},
   "outputs": [],
   "source": [
    "print(model.config)"
   ]
  },
  {
   "cell_type": "code",
   "execution_count": null,
   "metadata": {},
   "outputs": [],
   "source": [
    "import struct\n",
    "assert(model.config.attn_config['alibi'])\n",
    "assert(model.config.no_bias)\n",
    "assert(not model.config.attn_config['prefix_lm'])\n",
    "assert(model.config.norm_type == \"low_precision_layernorm\")\n",
    "assert(not model.config.attn_config['qk_ln'])\n",
    "assert(model.config.expansion_ratio == 4)"
   ]
  },
  {
   "cell_type": "code",
   "execution_count": null,
   "metadata": {},
   "outputs": [],
   "source": [
    "fout = open(fname_out, \"wb\")\n",
    "fout.write(struct.pack(\"I\", 0x67676d64)) # magic: ggmd in hex\n",
    "fout.write(struct.pack(\"I\", 0)) # v1_no_vocab\n",
    "fout.write(struct.pack(\"I\", model.config.vocab_size))\n",
    "fout.write(struct.pack(\"I\", model.config.max_seq_len))\n",
    "fout.write(struct.pack(\"I\", model.config.n_layers))\n",
    "fout.write(struct.pack(\"I\", model.config.n_heads))\n",
    "fout.write(struct.pack(\"I\", model.config.d_model))\n",
    "fout.write(struct.pack(\"f\", model.config.attn_config['alibi_bias_max']))\n",
    "clip_qkv = model.config.attn_config['clip_qkv']\n",
    "fout.write(struct.pack(\"f\",  clip_qkv if clip_qkv is not None else 0))\n",
    "fout.write(struct.pack(\"I\", ftype))\n",
    "list_vars = model.state_dict()\n",
    "# for name in list_vars.keys():\n",
    "#     print(name, list_vars[name].shape, list_vars[name].dtype)\n",
    "for name in list_vars.keys():\n",
    "    data = list_vars[name].squeeze().numpy()\n",
    "    print(\"Processing variable: \" + name + \" with shape: \", data.shape)\n",
    "\n",
    "    n_dims = len(data.shape);\n",
    "\n",
    "    # ftype == 0 -> float32, ftype == 1 -> float16\n",
    "    ftype_cur = 0;\n",
    "    if ftype != 0:\n",
    "        # Keep token embeddings in fp32\n",
    "        if name[-7:] == \".weight\" and n_dims == 2 and \".wte\" not in name:\n",
    "            print(\"  Converting to float16\")\n",
    "            data = data.astype(np.float16)\n",
    "            ftype_cur = 1\n",
    "        else:\n",
    "            print(\"  Converting to float32\")\n",
    "            data = data.astype(np.float32)\n",
    "            ftype_cur = 0\n",
    "    else:\n",
    "        if data.dtype != np.float32:\n",
    "            print(\"  Converting to float32\")\n",
    "            data = data.astype(np.float32)\n",
    "            ftype_cur = 0\n",
    "\n",
    "    # header\n",
    "    str = name.encode('utf-8')\n",
    "    fout.write(struct.pack(\"iii\", n_dims, len(str), ftype_cur))\n",
    "    for i in range(n_dims):\n",
    "        fout.write(struct.pack(\"i\", data.shape[n_dims - 1 - i]))\n",
    "    fout.write(str);\n",
    "\n",
    "    # data\n",
    "    data.tofile(fout)\n",
    "fout.close()\n",
    "print(fname_out)"
   ]
  },
  {
   "cell_type": "code",
   "execution_count": null,
   "metadata": {},
   "outputs": [],
   "source": []
  }
 ],
 "metadata": {
  "kernelspec": {
   "display_name": "venv",
   "language": "python",
   "name": "python3"
  },
  "language_info": {
   "codemirror_mode": {
    "name": "ipython",
    "version": 3
   },
   "file_extension": ".py",
   "mimetype": "text/x-python",
   "name": "python",
   "nbconvert_exporter": "python",
   "pygments_lexer": "ipython3",
   "version": "3.10.11"
  },
  "orig_nbformat": 4
 },
 "nbformat": 4,
 "nbformat_minor": 2
}
